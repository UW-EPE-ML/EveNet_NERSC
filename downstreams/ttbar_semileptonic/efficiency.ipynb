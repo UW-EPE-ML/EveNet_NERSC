{
 "cells": [
  {
   "cell_type": "code",
   "id": "initial_id",
   "metadata": {
    "collapsed": true,
    "ExecuteTime": {
     "end_time": "2025-04-26T20:50:04.894103Z",
     "start_time": "2025-04-26T20:50:04.480288Z"
    }
   },
   "source": "import torch",
   "outputs": [],
   "execution_count": 1
  },
  {
   "metadata": {
    "ExecuteTime": {
     "end_time": "2025-04-26T20:50:07.395885Z",
     "start_time": "2025-04-26T20:50:07.110646Z"
    }
   },
   "cell_type": "code",
   "source": [
    "data = torch.load(\"/Users/avencastmini/PycharmProjects/EveNet/workspace/test_data/TT1L/prediction.pt\")\n",
    "\n",
    "batch = data[0]"
   ],
   "id": "c5661b8d747115a4",
   "outputs": [],
   "execution_count": 2
  },
  {
   "metadata": {
    "ExecuteTime": {
     "end_time": "2025-04-26T20:44:18.736469Z",
     "start_time": "2025-04-26T20:44:18.733775Z"
    }
   },
   "cell_type": "code",
   "source": "pre_target = batch['assignment_prediction']",
   "id": "d095a0e973aac1a6",
   "outputs": [],
   "execution_count": 14
  },
  {
   "metadata": {
    "ExecuteTime": {
     "end_time": "2025-04-26T19:03:40.070632Z",
     "start_time": "2025-04-26T19:03:37.356099Z"
    }
   },
   "cell_type": "code",
   "source": "",
   "id": "864474132ef48c8f",
   "outputs": [
    {
     "name": "stderr",
     "output_type": "stream",
     "text": [
      "/Users/avencastmini/PycharmProjects/EveNet/.venv/lib/python3.12/site-packages/tqdm/auto.py:21: TqdmWarning: IProgress not found. Please update jupyter and ipywidgets. See https://ipywidgets.readthedocs.io/en/stable/user_install.html\n",
      "  from .autonotebook import tqdm as notebook_tqdm\n"
     ]
    }
   ],
   "execution_count": 9
  },
  {
   "metadata": {
    "ExecuteTime": {
     "end_time": "2025-04-26T19:31:24.102291Z",
     "start_time": "2025-04-26T19:31:24.098651Z"
    }
   },
   "cell_type": "code",
   "source": "",
   "id": "d8a1a2e36ea3cf81",
   "outputs": [],
   "execution_count": 14
  },
  {
   "metadata": {
    "ExecuteTime": {
     "end_time": "2025-04-26T19:32:05.725163Z",
     "start_time": "2025-04-26T19:32:05.720611Z"
    }
   },
   "cell_type": "code",
   "source": "",
   "id": "636e8fd547056570",
   "outputs": [
    {
     "data": {
      "text/plain": [
       "array([ 1,  5,  2, -1,  2,  4,  1,  3,  2,  6])"
      ]
     },
     "execution_count": 19,
     "metadata": {},
     "output_type": "execute_result"
    }
   ],
   "execution_count": 19
  },
  {
   "metadata": {},
   "cell_type": "code",
   "outputs": [],
   "execution_count": null,
   "source": "",
   "id": "b152d04408a2de88"
  }
 ],
 "metadata": {
  "kernelspec": {
   "display_name": "Python 3",
   "language": "python",
   "name": "python3"
  },
  "language_info": {
   "codemirror_mode": {
    "name": "ipython",
    "version": 2
   },
   "file_extension": ".py",
   "mimetype": "text/x-python",
   "name": "python",
   "nbconvert_exporter": "python",
   "pygments_lexer": "ipython2",
   "version": "2.7.6"
  }
 },
 "nbformat": 4,
 "nbformat_minor": 5
}
