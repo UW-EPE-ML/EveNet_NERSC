{
 "cells": [
  {
   "cell_type": "code",
   "id": "initial_id",
   "metadata": {
    "collapsed": true,
    "ExecuteTime": {
     "end_time": "2025-04-27T13:03:47.824422Z",
     "start_time": "2025-04-27T13:03:47.822874Z"
    }
   },
   "source": [
    "import pandas as pd\n",
    "import torch\n",
    "import numpy as np"
   ],
   "outputs": [],
   "execution_count": 112
  },
  {
   "metadata": {
    "ExecuteTime": {
     "end_time": "2025-04-27T13:06:13.951110Z",
     "start_time": "2025-04-27T13:06:13.798239Z"
    }
   },
   "cell_type": "code",
   "source": [
    "data = torch.load(\"/Users/avencastmini/PycharmProjects/EveNet/workspace/test_data/TT1L/prediction.pt\")\n",
    "# data_var = torch.load(\"/Users/avencastmini/PycharmProjects/EveNet/workspace/test_data/TT1L/prediction.var.pt\")"
   ],
   "id": "c5661b8d747115a4",
   "outputs": [],
   "execution_count": 120
  },
  {
   "metadata": {
    "ExecuteTime": {
     "end_time": "2025-04-27T13:04:06.032127Z",
     "start_time": "2025-04-27T13:04:06.024834Z"
    }
   },
   "cell_type": "code",
   "source": [
    "def extract_batch_assignments(batch):\n",
    "    pred = batch['assignment_prediction']\n",
    "    target = batch['assignment_target']\n",
    "    target_mask = batch['assignment_target_mask']\n",
    "\n",
    "    process_match = {\n",
    "        'num_electron': batch['EXTRA/num_electron'].numpy().astype(np.int32),\n",
    "        'num_muon': batch['EXTRA/num_muon'].numpy().astype(np.int32),\n",
    "        'num_bjet': batch['EXTRA/num_bjet'].numpy().astype(np.int32),\n",
    "        'num_jet': batch['EXTRA/num_jet'].numpy().astype(np.int32),\n",
    "    }\n",
    "\n",
    "    for process, target_list in target.items():\n",
    "        pred_process = pred[process]['best_indices']\n",
    "        mask_process = target_mask[process]\n",
    "\n",
    "        for p_idx, (assignment_target, assignment_prediction, assignment_target_mask) in enumerate(zip(target_list, pred_process, mask_process)):\n",
    "            assignment_target = assignment_target.numpy()\n",
    "            assignment_prediction = assignment_prediction.numpy()\n",
    "            assignment_target_mask = assignment_target_mask.numpy()\n",
    "\n",
    "            # Matching: true if all particles in the group are correctly assigned\n",
    "            matched = (assignment_target == assignment_prediction)\n",
    "            matched = matched.all(axis=1)  # along particle axis\n",
    "\n",
    "            process_match[f\"{process}_{p_idx}\"] = matched\n",
    "            process_match[f\"{process}_{p_idx}_mask\"] = assignment_target_mask\n",
    "\n",
    "    return pd.DataFrame(process_match)\n",
    "\n",
    "def compute_efficiency_general(df, process_info, base_selection, extra_selection):\n",
    "    query = f\"({base_selection}) and ({extra_selection})\"\n",
    "    selected_df = df.query(query)\n",
    "\n",
    "    results = []\n",
    "\n",
    "    for process, n_particles in process_info.items():\n",
    "        # ---- All Event Region (NEW, correct particle pool) ----\n",
    "        eff_per_particle = []\n",
    "        n_valid_per_particle = []\n",
    "        n_correct_per_particle = []\n",
    "\n",
    "        for i in range(n_particles):\n",
    "            mask = selected_df[f\"{process}_{i}_mask\"] == 1\n",
    "            if mask.sum() == 0:\n",
    "                eff = np.nan\n",
    "            else:\n",
    "                eff = (selected_df.loc[mask, f\"{process}_{i}\"]).sum() / mask.sum()\n",
    "\n",
    "            eff_per_particle.append(eff)\n",
    "            n_valid_per_particle.append(mask.sum())\n",
    "            n_correct_per_particle.append((selected_df.loc[mask, f\"{process}_{i}\"]).sum())\n",
    "\n",
    "        # \"All matched\" for all-event\n",
    "        if np.any(np.isnan(eff_per_particle)):\n",
    "            eff_all = np.nan\n",
    "        else:\n",
    "            correct_flags = []\n",
    "            for i in range(n_particles):\n",
    "                mask = selected_df[f\"{process}_{i}_mask\"] == 1\n",
    "                correct = selected_df[f\"{process}_{i}\"].where(mask, True)  # ignore invalid\n",
    "                correct_flags.append(correct)\n",
    "\n",
    "            correct_stack = pd.concat(correct_flags, axis=1)\n",
    "            eff_all = (correct_stack.all(axis=1)).sum() / selected_df.shape[0]\n",
    "\n",
    "        row_all_event = {\n",
    "            \"Process\": process,\n",
    "            \"Selection\": extra_selection,\n",
    "            \"Selection Label\": \"all\",\n",
    "            \"Event Portion\": selected_df.shape[0] / df.shape[0],\n",
    "            \"All Matched\": eff_all,\n",
    "        }\n",
    "        for i, eff in enumerate(eff_per_particle):\n",
    "            row_all_event[f\"{process}_Particle_{i}_Efficiency\"] = eff\n",
    "\n",
    "        results.append(row_all_event)\n",
    "\n",
    "        # ---- Full Event Region (classic, all masks == 1) ----\n",
    "        full_mask_expr = \" & \".join([f\"{process}_{i}_mask\" for i in range(n_particles)])\n",
    "        full_event_df = selected_df.query(full_mask_expr)\n",
    "\n",
    "        if full_event_df.empty:\n",
    "            eff_per_particle_full = [np.nan] * n_particles\n",
    "            eff_all_full = np.nan\n",
    "            event_portion_full = np.nan\n",
    "        else:\n",
    "            eff_per_particle_full = [\n",
    "                full_event_df[f\"{process}_{i}\"].sum() / full_event_df.shape[0]\n",
    "                for i in range(n_particles)\n",
    "            ]\n",
    "            full_correct_expr = \" & \".join([f\"{process}_{i}\" for i in range(n_particles)])\n",
    "            eff_all_full = full_event_df.eval(full_correct_expr).sum() / full_event_df.shape[0]\n",
    "            event_portion_full = full_event_df.shape[0] / df.shape[0]\n",
    "\n",
    "        row_full_event = {\n",
    "            \"Process\": process,\n",
    "            \"Selection\": extra_selection,\n",
    "            \"Selection Label\": \"full\",\n",
    "            \"Event Portion\": event_portion_full,\n",
    "            \"All Matched\": eff_all_full,\n",
    "        }\n",
    "        for i, eff in enumerate(eff_per_particle_full):\n",
    "            row_full_event[f\"{process}_Particle_{i}_Efficiency\"] = eff\n",
    "\n",
    "        results.append(row_full_event)\n",
    "\n",
    "    return results"
   ],
   "id": "185fc56276eabb2b",
   "outputs": [],
   "execution_count": 116
  },
  {
   "metadata": {
    "ExecuteTime": {
     "end_time": "2025-04-27T13:08:07.287805Z",
     "start_time": "2025-04-27T13:08:07.150579Z"
    }
   },
   "cell_type": "code",
   "source": [
    "# Loop over all batches\n",
    "dfs = []\n",
    "for batch in [\n",
    "    *data,\n",
    "    # *data_var\n",
    "]:  # assuming `data` is your list of batches\n",
    "    df_ = extract_batch_assignments(batch)\n",
    "    dfs.append(df_)\n",
    "\n",
    "# Final dataframe\n",
    "df = pd.concat(dfs, ignore_index=True)\n",
    "\n",
    "\n",
    "# Process info: process name -> number of particles\n",
    "process_info = {\n",
    "    \"TT1L\": 2,\n",
    "}\n",
    "\n",
    "# Global selection\n",
    "base_selection = \"(num_electron + num_muon == 1) & (num_bjet >= 2)\"\n",
    "\n",
    "# Different n_jet regions\n",
    "extra_selections = {\n",
    "    \"n_jet == 4\": \"num_bjet + num_jet == 4\",\n",
    "    \"n_jet == 5\": \"num_bjet + num_jet == 5\",\n",
    "    \"n_jet >= 6\": \"num_bjet + num_jet >= 6\",\n",
    "    \"all jets\": \"num_bjet + num_jet >= 4\",\n",
    "}\n",
    "\n",
    "# Collect results\n",
    "all_results = []\n",
    "\n",
    "for label, extra_sel in extra_selections.items():\n",
    "    res = compute_efficiency_general(df, process_info, base_selection, extra_sel)\n",
    "    for row in res:\n",
    "        all_results.append(row)\n",
    "\n",
    "# Final table\n",
    "efficiency_table = pd.DataFrame(all_results)\n",
    "\n",
    "print(efficiency_table.query(\"`Selection Label` == 'all'\").to_string(index=False, float_format=\"%.2f\"))\n",
    "print(efficiency_table.query(\"`Selection Label` == 'full'\").to_string(index=False, float_format=\"%.2f\"))\n"
   ],
   "id": "d095a0e973aac1a6",
   "outputs": [
    {
     "name": "stdout",
     "output_type": "stream",
     "text": [
      "Process               Selection Selection Label  Event Portion  All Matched  TT1L_Particle_0_Efficiency  TT1L_Particle_1_Efficiency\n",
      "   TT1L num_bjet + num_jet == 4             all           0.46         0.82                        0.86                        0.79\n",
      "   TT1L num_bjet + num_jet == 5             all           0.32         0.74                        0.84                        0.71\n",
      "   TT1L num_bjet + num_jet >= 6             all           0.22         0.65                        0.81                        0.59\n",
      "   TT1L num_bjet + num_jet >= 4             all           1.00         0.76                        0.84                        0.71\n",
      "Process               Selection Selection Label  Event Portion  All Matched  TT1L_Particle_0_Efficiency  TT1L_Particle_1_Efficiency\n",
      "   TT1L num_bjet + num_jet == 4            full           0.20         0.84                        0.90                        0.84\n",
      "   TT1L num_bjet + num_jet == 5            full           0.18         0.72                        0.86                        0.73\n",
      "   TT1L num_bjet + num_jet >= 6            full           0.13         0.58                        0.83                        0.61\n",
      "   TT1L num_bjet + num_jet >= 4            full           0.51         0.73                        0.87                        0.74\n"
     ]
    }
   ],
   "execution_count": 123
  },
  {
   "metadata": {
    "ExecuteTime": {
     "end_time": "2025-04-27T12:53:56.974338Z",
     "start_time": "2025-04-27T12:53:56.896527Z"
    }
   },
   "cell_type": "code",
   "source": "",
   "id": "23e885b092bf03fa",
   "outputs": [
    {
     "name": "stdout",
     "output_type": "stream",
     "text": [
      "Process    Selection Selection Label  Event Portion  All Matched  TT1L_Particle_0_Efficiency  TT1L_Particle_1_Efficiency\n",
      "   TT1L num_jet == 2             all           0.46         0.81                        0.86                        0.78\n",
      "   TT1L num_jet == 3             all           0.30         0.74                        0.84                        0.71\n",
      "   TT1L num_jet >= 4             all           0.19         0.66                        0.82                        0.60\n",
      "   TT1L num_jet >= 2             all           0.95         0.76                        0.84                        0.71\n",
      "Process    Selection Selection Label  Event Portion  All Matched  TT1L_Particle_0_Efficiency  TT1L_Particle_1_Efficiency\n",
      "   TT1L num_jet == 2            full           0.20         0.82                        0.89                        0.83\n",
      "   TT1L num_jet == 3            full           0.17         0.71                        0.86                        0.73\n",
      "   TT1L num_jet >= 4            full           0.11         0.59                        0.83                        0.62\n",
      "   TT1L num_jet >= 2            full           0.48         0.73                        0.87                        0.74\n"
     ]
    }
   ],
   "execution_count": 110
  },
  {
   "metadata": {
    "ExecuteTime": {
     "end_time": "2025-04-27T11:13:26.527938Z",
     "start_time": "2025-04-27T11:13:26.526348Z"
    }
   },
   "cell_type": "code",
   "source": "",
   "id": "d3c8735c89485606",
   "outputs": [],
   "execution_count": null
  },
  {
   "metadata": {},
   "cell_type": "code",
   "outputs": [],
   "execution_count": null,
   "source": "",
   "id": "1747732f1a980193"
  }
 ],
 "metadata": {
  "kernelspec": {
   "display_name": "Python 3",
   "language": "python",
   "name": "python3"
  },
  "language_info": {
   "codemirror_mode": {
    "name": "ipython",
    "version": 2
   },
   "file_extension": ".py",
   "mimetype": "text/x-python",
   "name": "python",
   "nbconvert_exporter": "python",
   "pygments_lexer": "ipython2",
   "version": "2.7.6"
  }
 },
 "nbformat": 4,
 "nbformat_minor": 5
}
